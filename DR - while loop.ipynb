{
 "cells": [
  {
   "cell_type": "code",
   "execution_count": null,
   "metadata": {},
   "outputs": [],
   "source": [
    "print(\"Welcome!!!\")"
   ]
  },
  {
   "cell_type": "code",
   "execution_count": null,
   "metadata": {},
   "outputs": [],
   "source": [
    "print(\"Welcome!!!\")\n",
    "print(\"Welcome!!!\")\n",
    "print(\"Welcome!!!\")\n",
    "print(\"Welcome!!!\")\n",
    "print(\"Welcome!!!\")"
   ]
  },
  {
   "cell_type": "code",
   "execution_count": null,
   "metadata": {},
   "outputs": [],
   "source": [
    "#loop counter initialization \n",
    "i=1\n",
    "\n",
    "#while loop condition\n",
    "while i<=5:\n",
    "    print(\"Welcome!!!\")\n",
    "    #increament value of loop counter by 1\n",
    "    i=i+1\n",
    "\n",
    "print(\"End of code\")  "
   ]
  },
  {
   "cell_type": "code",
   "execution_count": null,
   "metadata": {},
   "outputs": [],
   "source": [
    "#TASK - Write Python code to print your name for 5 times\n",
    "\n",
    "#loop counter initialization \n",
    "\n",
    "\n",
    "#while loop condition\n",
    "while :\n",
    "    #print statement to print your name\n",
    "    \n",
    "    #increament value of loop counter by 1\n",
    "    \n",
    "\n",
    "print(\"End of code\")  "
   ]
  },
  {
   "cell_type": "code",
   "execution_count": null,
   "metadata": {},
   "outputs": [],
   "source": [
    "#TASK - Guess the output\n",
    "\n",
    "i=10\n",
    "while i<=20:\n",
    "    print(\"Welcome!!!\")\n",
    "    i=i+1\n",
    "print(\"End of code\")  "
   ]
  },
  {
   "cell_type": "code",
   "execution_count": null,
   "metadata": {},
   "outputs": [],
   "source": [
    "#TASK - Guess the output\n",
    "\n",
    "i=10\n",
    "while i<20:\n",
    "    print(\"Welcome!!!\")\n",
    "    i=i+1\n",
    "print(\"End of code\")  "
   ]
  },
  {
   "cell_type": "code",
   "execution_count": null,
   "metadata": {},
   "outputs": [],
   "source": [
    "#Python code to calculate square of the given number\n",
    "number=int(input(\"Enter the number \"))\n",
    "square_value=number**2\n",
    "print(\"Square of \",number,\"is \",square_value)"
   ]
  },
  {
   "cell_type": "code",
   "execution_count": null,
   "metadata": {},
   "outputs": [],
   "source": [
    "#TASK - Guess the output\n",
    "\n",
    "i=1\n",
    "while i<=3:\n",
    "    number=int(input(\"Enter the number \"))\n",
    "    square_value=number**2\n",
    "    print(\"Square of \",number,\"is \",square_value)\n",
    "    \n",
    "    i=i+1\n",
    "print(\"End of code\")  "
   ]
  },
  {
   "cell_type": "code",
   "execution_count": null,
   "metadata": {},
   "outputs": [],
   "source": [
    "#TASK - Rewite the following code to run while loop for 5 times and generate cube of a given number\n",
    "\n",
    "i=__\n",
    "while i<=__:\n",
    "    number=int(input(\"Enter the number \"))\n",
    "    cube_value=number**__\n",
    "    print(\"Cube of \",number,\"is \",cube_value)\n",
    "    \n",
    "    i=__\n",
    "print(\"End of code\")  "
   ]
  },
  {
   "cell_type": "code",
   "execution_count": null,
   "metadata": {},
   "outputs": [],
   "source": [
    "#break statement  to terminate execution of  while loop\n",
    "\"\"\"\n",
    "username->admin\n",
    "password->ad123\n",
    "\"\"\"\""
   ]
  },
  {
   "cell_type": "code",
   "execution_count": null,
   "metadata": {},
   "outputs": [],
   "source": [
    "#User validation code \n",
    "username=input(\"Enter username \")\n",
    "password=input(\"Enter password \")\n",
    "\n",
    "if username==\"admin\" and password==\"ad123\":\n",
    "    print(\"You have entered correct credentials. Login is successful \")\n",
    "else:\n",
    "    print(\"You have entered incorrect credentials. Login is failed \")"
   ]
  },
  {
   "cell_type": "code",
   "execution_count": null,
   "metadata": {},
   "outputs": [],
   "source": [
    "#User validation code with three attempts \n",
    "i=1\n",
    "while i<=3:\n",
    "    username=input(\"Enter username \")\n",
    "    password=input(\"Enter password \")\n",
    "\n",
    "    if username==\"admin\" and password==\"ad123\":\n",
    "        print(\"You have entered correct credentials. Login is successful \")\n",
    "        break\n",
    "    else:\n",
    "        print(\"You have entered incorrect credentials. Login is failed \")\n",
    "    \n",
    "    i=i+1\n",
    "\n",
    "print(\"End of code\")  \n"
   ]
  },
  {
   "cell_type": "code",
   "execution_count": null,
   "metadata": {},
   "outputs": [],
   "source": [
    "#print no from 1 to 10\n",
    "print(1)\n",
    "print(2)\n",
    "print(3)\n",
    "print(4)\n",
    "print(5)\n",
    "print(6)\n",
    "print(7)\n",
    "print(8)\n",
    "print(9)\n",
    "print(10)"
   ]
  },
  {
   "cell_type": "code",
   "execution_count": null,
   "metadata": {},
   "outputs": [],
   "source": [
    "#Using loop counter inside the loop body\n",
    "i=1\n",
    "while i<=10:\n",
    "    print(i)\n",
    "    i=i+1"
   ]
  },
  {
   "cell_type": "code",
   "execution_count": null,
   "metadata": {},
   "outputs": [],
   "source": [
    "#print no from 10 to 20\n",
    "i=10             \n",
    "while i<=20:           \n",
    "    print(i)    \n",
    "    i=i+1              "
   ]
  },
  {
   "cell_type": "code",
   "execution_count": null,
   "metadata": {},
   "outputs": [],
   "source": [
    "#print no from 1 to 10\n",
    "print(1**2)\n",
    "print(2**2)\n",
    "print(3**2)\n",
    "print(4**2)\n",
    "print(5**2)\n",
    "print(6**2)\n",
    "print(7**2)\n",
    "print(8**2)\n",
    "print(9**2)\n",
    "print(10**2)"
   ]
  },
  {
   "cell_type": "code",
   "execution_count": null,
   "metadata": {},
   "outputs": [],
   "source": [
    "#print square values of 1st 10 numbers\n",
    "\n",
    "i=1\n",
    "while i<=10:\n",
    "    sq=i**2\n",
    "    print(sq)\n",
    "    i=i+1\n"
   ]
  },
  {
   "cell_type": "code",
   "execution_count": null,
   "metadata": {},
   "outputs": [],
   "source": [
    "#Task - Print cubes of 1st ten numbers\n",
    "#Task - Print cubes of 22 to 33"
   ]
  },
  {
   "cell_type": "code",
   "execution_count": null,
   "metadata": {},
   "outputs": [],
   "source": [
    "i=1\n",
    "while i<=100:\n",
    "    print(i)\n",
    "    i+=1"
   ]
  },
  {
   "cell_type": "code",
   "execution_count": null,
   "metadata": {},
   "outputs": [],
   "source": [
    "#TASK - Guess the output\n",
    "i=1\n",
    "while i<=100:\n",
    "    if i%2==0:\n",
    "        print(i)\n",
    "    i+=1"
   ]
  },
  {
   "cell_type": "code",
   "execution_count": null,
   "metadata": {},
   "outputs": [],
   "source": [
    "#Task - Print odd numbers between 1 to 100"
   ]
  },
  {
   "cell_type": "code",
   "execution_count": null,
   "metadata": {},
   "outputs": [],
   "source": [
    "#How to iterate over sequential data - STRING, LIST , TUPLE\n",
    "lst=[2,1,5,8,5,6,18,13,11,15]"
   ]
  },
  {
   "cell_type": "code",
   "execution_count": null,
   "metadata": {},
   "outputs": [],
   "source": [
    "print(lst[0])\n",
    "print(lst[1])\n",
    "print(lst[2])\n",
    ".\n",
    ".\n",
    "print(lst[9])"
   ]
  },
  {
   "cell_type": "code",
   "execution_count": null,
   "metadata": {},
   "outputs": [],
   "source": [
    "# while and list\n",
    "lst=[2,1,5,8,5,6,18,13,11,15]\n",
    "i=0\n",
    "while i<len(lst):\n",
    "    print(lst[i])\n",
    "    i=i+1"
   ]
  }
 ],
 "metadata": {
  "kernelspec": {
   "display_name": "Python 3 (ipykernel)",
   "language": "python",
   "name": "python3"
  },
  "language_info": {
   "codemirror_mode": {
    "name": "ipython",
    "version": 3
   },
   "file_extension": ".py",
   "mimetype": "text/x-python",
   "name": "python",
   "nbconvert_exporter": "python",
   "pygments_lexer": "ipython3",
   "version": "3.10.9"
  }
 },
 "nbformat": 4,
 "nbformat_minor": 2
}
